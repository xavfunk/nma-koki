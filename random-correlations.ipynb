{
 "cells": [
  {
   "cell_type": "markdown",
   "id": "1e0b9aa3",
   "metadata": {},
   "source": [
    "## Simulating random signals\n",
    "\n",
    "using Poisson, Gaussian and Uniform"
   ]
  },
  {
   "cell_type": "code",
   "execution_count": 1,
   "id": "d6e5da35",
   "metadata": {},
   "outputs": [],
   "source": [
    "import numpy as np\n",
    "import matplotlib.pyplot as plt\n",
    "from umap import UMAP\n",
    "from scipy.ndimage import uniform_filter1d\n",
    "from scipy.stats import zscore\n",
    "from sklearn.decomposition import PCA"
   ]
  },
  {
   "cell_type": "code",
   "execution_count": 2,
   "id": "df612b91",
   "metadata": {},
   "outputs": [],
   "source": [
    "# @title Data retrieval\n",
    "# this retrieves the dataset if not already in the folder\n",
    "\n",
    "import os, requests\n",
    "\n",
    "fname = \"stringer_spontaneous.npy\"\n",
    "url = \"https://osf.io/dpqaj/download\"\n",
    "\n",
    "if not os.path.isfile(fname):\n",
    "  try:\n",
    "    r = requests.get(url)\n",
    "  except requests.ConnectionError:\n",
    "    print(\"!!! Failed to download data !!!\")\n",
    "  else:\n",
    "    if r.status_code != requests.codes.ok:\n",
    "      print(\"!!! Failed to download data !!!\")\n",
    "    else:\n",
    "      with open(fname, \"wb\") as fid:\n",
    "        fid.write(r.content)"
   ]
  },
  {
   "cell_type": "code",
   "execution_count": 3,
   "id": "9874f999",
   "metadata": {},
   "outputs": [
    {
     "name": "stdout",
     "output_type": "stream",
     "text": [
      "dict_keys(['sresp', 'run', 'beh_svd_time', 'beh_svd_mask', 'stat', 'pupilArea', 'pupilCOM', 'xyz'])\n"
     ]
    }
   ],
   "source": [
    "dat = np.load('stringer_spontaneous.npy', allow_pickle=True).item()\n",
    "print(dat.keys())"
   ]
  },
  {
   "cell_type": "markdown",
   "id": "2d021db4",
   "metadata": {},
   "source": [
    "# Todos\n",
    "## get plausible lambda for Poisson\n",
    "\n",
    "- exclude 0s, then fit poissons to bin rate\n",
    "- $\\lambda = mean$\n",
    "\n",
    "## get plausible lambda for Exponential\n",
    "\n",
    "- exclude 0s, then fit exponentials to bin rate\n",
    "- $\\lambda = \\frac{1}{mean}$\n",
    "\n",
    "## get plausible Normal parameters\n",
    "\n",
    "- doing the same with mean and std\n",
    "\n",
    "## get plausible number of 0s"
   ]
  },
  {
   "cell_type": "code",
   "execution_count": 3,
   "id": "5f6b6db7",
   "metadata": {},
   "outputs": [
    {
     "data": {
      "image/png": "[encoded data removed]",
      "text/plain": [
       "<Figure size 432x288 with 1 Axes>"
      ]
     },
     "metadata": {
      "needs_background": "light"
     },
     "output_type": "display_data"
    }
   ],
   "source": [
    "plt.hist(dat['sresp'][0][dat['sresp'][0] > 0], bins = 100, alpha = .5) # histogram without zeros\n",
    "plt.show()"
   ]
  },
  {
   "cell_type": "code",
   "execution_count": 6,
   "id": "1df22b60",
   "metadata": {},
   "outputs": [
    {
     "data": {
      "image/png": "[encoded data removed]",
      "text/plain": [
       "<Figure size 432x288 with 1 Axes>"
      ]
     },
     "metadata": {
      "needs_background": "light"
     },
     "output_type": "display_data"
    }
   ],
   "source": [
    "# dat_clean contains data from one neuron without 0s\n",
    "dat_clean = dat['sresp'][0][dat['sresp'][0] > 0]\n",
    "#bins = np.arange(50) - 0.5\n",
    "\n",
    "plt.hist(dat_clean, bins=100, density=True, label='Data')\n",
    "plt.show()"
   ]
  },
  {
   "cell_type": "code",
   "execution_count": 8,
   "id": "457282c5",
   "metadata": {},
   "outputs": [],
   "source": [
    "mean = dat_clean.mean()"
   ]
  },
  {
   "cell_type": "code",
   "execution_count": 9,
   "id": "2a3ccd2f",
   "metadata": {},
   "outputs": [],
   "source": [
    "# simualte one synthetic neuron\n",
    "rate = 10\n",
    "neuron = np.random.exponential(1/mean, 7018)\n",
    "#neuron = np.random.poisson(mean, 7018)"
   ]
  },
  {
   "cell_type": "code",
   "execution_count": 11,
   "id": "e7f5be30",
   "metadata": {},
   "outputs": [
    {
     "data": {
      "image/png": "[encoded data removed]",
      "text/plain": [
       "<Figure size 432x288 with 1 Axes>"
      ]
     },
     "metadata": {
      "needs_background": "light"
     },
     "output_type": "display_data"
    }
   ],
   "source": [
    "plt.hist(neuron, bins = 100, alpha = .5)\n",
    "#plt.hist(dat_clean, bins = 100, alpha = .5)\n",
    "\n",
    "plt.axvline(mean)\n",
    "plt.show()"
   ]
  },
  {
   "cell_type": "code",
   "execution_count": 4,
   "id": "c25d08e1",
   "metadata": {},
   "outputs": [
    {
     "data": {
      "text/plain": [
       "11983"
      ]
     },
     "execution_count": 4,
     "metadata": {},
     "output_type": "execute_result"
    }
   ],
   "source": [
    "dat['sresp'].shape[0]"
   ]
  },
  {
   "cell_type": "code",
   "execution_count": 58,
   "id": "5962a292",
   "metadata": {},
   "outputs": [
    {
     "data": {
      "text/plain": [
       "array([False, False, False, ...,  True, False, False])"
      ]
     },
     "execution_count": 58,
     "metadata": {},
     "output_type": "execute_result"
    }
   ],
   "source": [
    "(neuron > 0) == False"
   ]
  },
  {
   "cell_type": "code",
   "execution_count": 60,
   "id": "12eca0b2",
   "metadata": {},
   "outputs": [
    {
     "data": {
      "image/png": "[encoded data removed]",
      "text/plain": [
       "<Figure size 432x288 with 1 Axes>"
      ]
     },
     "metadata": {
      "needs_background": "light"
     },
     "output_type": "display_data"
    }
   ],
   "source": [
    "from scipy.optimize import curve_fit\n",
    "from scipy.special import factorial\n",
    "from scipy.stats import poisson\n",
    "from scipy.stats import halfnorm\n",
    "\n",
    "params = np.zeros(dat['sresp'].shape[0])\n",
    "synthetic_neurons = np.zeros_like(dat['sresp'])\n",
    "\n",
    "def fit_halfnorm(k, s):\n",
    "    '''halfnorm function, parameter s is the standard deviation'''\n",
    "    return halfnorm.pdf(k, 0, s)\n",
    "\n",
    "for i, neuron in enumerate(dat['sresp'][:20]):\n",
    "    \n",
    "    neuron_clean = neuron[neuron > 0]\n",
    "    n_zeros = ((neuron > 0) == False).sum()\n",
    "    \n",
    "    bins = np.arange(200) - 0.5\n",
    "    \n",
    "    # get histogram\n",
    "    #entries, bin_edges, patches = plt.hist(neuron, bins=bins, density=True, label='Data')\n",
    "    entries, bin_edges, patches = plt.hist(neuron_clean, bins=bins, density=True, label='Data')\n",
    "\n",
    "    # first bin is zeros\n",
    "    fraction_zeros = entries[0]\n",
    "    \n",
    "    bin_middles = 0.5 * (bin_edges[1:] + bin_edges[:-1])\n",
    "    \n",
    "    # Halfgaussian fit with curve_fit\n",
    "    p0 = 10 # start with values near those we expect\n",
    "    parameters_n, cov_matrix_n = curve_fit(fit_halfnorm, bin_middles[1:], entries[1:], p0 = p0)\n",
    "    \n",
    "    # simulate with fitted parameters\n",
    "    synthetic_neuron = halfnorm.rvs(scale = parameters_n, size=dat['sresp'].shape[1])\n",
    "    \n",
    "    # insert zeros\n",
    "    # make indices\n",
    "    #idxs = np.random.choice(dat['sresp'].shape[1], int(dat['sresp'].shape[1]*fraction_zeros), replace=False)\n",
    "    idxs = np.random.choice(dat['sresp'].shape[1], int(n_zeros), replace=False)\n",
    "\n",
    "    synthetic_neuron[idxs] = 0 \n",
    "    \n",
    "    # insert result\n",
    "    synthetic_neurons[i] = synthetic_neuron\n",
    "    params[i] = parameters_n"
   ]
  },
  {
   "cell_type": "code",
   "execution_count": 63,
   "id": "0b9e0123",
   "metadata": {},
   "outputs": [
    {
     "data": {
      "image/png": "[encoded data removed]",
      "text/plain": [
       "<Figure size 432x288 with 1 Axes>"
      ]
     },
     "metadata": {
      "needs_background": "light"
     },
     "output_type": "display_data"
    }
   ],
   "source": [
    "i = 3\n",
    "scale = 1\n",
    "plt.hist(synthetic_neurons[i]*scale, bins = bins, alpha = .5)\n",
    "plt.hist(dat['sresp'][i], bins = bins, alpha = .5)\n",
    "plt.show()"
   ]
  },
  {
   "cell_type": "code",
   "execution_count": 28,
   "id": "15801ced",
   "metadata": {},
   "outputs": [
    {
     "data": {
      "text/plain": [
       "(5127,)"
      ]
     },
     "execution_count": 28,
     "metadata": {},
     "output_type": "execute_result"
    }
   ],
   "source": [
    "dat['sresp'][20][dat['sresp'][20]>0].shape"
   ]
  },
  {
   "cell_type": "code",
   "execution_count": 5,
   "id": "5bdc27d2",
   "metadata": {},
   "outputs": [
    {
     "data": {
      "text/plain": [
       "array([1765, 6837, 6058, ..., 2480, 4983, 2042])"
      ]
     },
     "execution_count": 5,
     "metadata": {},
     "output_type": "execute_result"
    }
   ],
   "source": [
    "np.random.choice(dat['sresp'].shape[1], int(dat['sresp'].shape[1]*.5), replace=False)\n"
   ]
  },
  {
   "cell_type": "code",
   "execution_count": 51,
   "id": "8aa742b3",
   "metadata": {},
   "outputs": [
    {
     "data": {
      "text/plain": [
       "<matplotlib.legend.Legend at 0x7ff488747580>"
      ]
     },
     "execution_count": 51,
     "metadata": {},
     "output_type": "execute_result"
    },
    {
     "data": {
      "image/png": "[encoded data removed]",
      "text/plain": [
       "<Figure size 432x288 with 1 Axes>"
      ]
     },
     "metadata": {
      "needs_background": "light"
     },
     "output_type": "display_data"
    }
   ],
   "source": [
    "## potential poisson-fitting code\n",
    "from scipy.optimize import curve_fit\n",
    "from scipy.special import factorial\n",
    "from scipy.stats import poisson\n",
    "from scipy.stats import halfnorm\n",
    "\n",
    "i = 5 # index of neuron to look at\n",
    "dat_clean = dat['sresp'][i][dat['sresp'][i] > 0]\n",
    "\n",
    "# the bins should be of integer width, because poisson is an integer distribution\n",
    "bins = np.arange(200) - 0.5\n",
    "entries, bin_edges, patches = plt.hist(dat_clean, bins=bins, density=True, label='Data')\n",
    "\n",
    "# calculate bin centres\n",
    "bin_middles = 0.5 * (bin_edges[1:] + bin_edges[:-1])\n",
    "\n",
    "def fit_halfnorm(k, s):\n",
    "    '''poisson function, parameter lamb is the fit parameter'''\n",
    "    return halfnorm.pdf(k, 0, s)\n",
    "\n",
    "def fit_function(k, lamb):\n",
    "    '''poisson function, parameter lamb is the fit parameter'''\n",
    "    return poisson.pmf(k, lamb)\n",
    "\n",
    "def monoExp(x, m, t, b):\n",
    "    return m * np.exp(-t * x) + b\n",
    "\n",
    "\n",
    "## exp fit\n",
    "# fit with curve_fit\n",
    "#p0 = (2000, .1, 50) # start with values near those we expect\n",
    "#parameters, cov_matrix = curve_fit(monoExp, bin_middles, entries, p0 = p0)\n",
    "\n",
    "# plot exp-deviation with fitted parameter\n",
    "x_plot = np.arange(0, 50)\n",
    "\n",
    "## Poisson fit\n",
    "# fit with curve_fit\n",
    "p0 = 10 # start with values near those we expect\n",
    "parameters_p, cov_matrix_p = curve_fit(fit_function, bin_middles, entries, p0 = p0)\n",
    "\n",
    "## Halfgaussian fit\n",
    "# fit with curve_fit\n",
    "p0 = 10 # start with values near those we expect\n",
    "parameters_n, cov_matrix_n = curve_fit(fit_halfnorm, bin_middles[1:], entries[1:], p0 = p0)\n",
    "\n",
    "\n",
    "\n",
    "# plot exp-deviation with fitted parameter\n",
    "x_plot = np.arange(0, 50)\n",
    "\n",
    "#plt.plot(\n",
    "#    x_plot,\n",
    "#    monoExp(x_plot, *parameters),    marker='o', linestyle='',\n",
    "#    label='Fit result',\n",
    "#)\n",
    "\n",
    "plt.plot(\n",
    "    x_plot,\n",
    "    fit_function(x_plot, *parameters_p),\n",
    "    marker='o', linestyle='',\n",
    "    label='Fit result',\n",
    ")\n",
    "plt.plot(\n",
    "    x_plot,\n",
    "    fit_halfnorm(x_plot, *parameters_n),\n",
    "    marker='o', linestyle='',\n",
    "    label='Fit result',\n",
    ")\n",
    "plt.legend(['exp', 'poisson', 'halfnorm'])"
   ]
  },
  {
   "cell_type": "code",
   "execution_count": 48,
   "id": "b3e8beae",
   "metadata": {},
   "outputs": [
    {
     "data": {
      "text/plain": [
       "array([45.83588275])"
      ]
     },
     "execution_count": 48,
     "metadata": {},
     "output_type": "execute_result"
    }
   ],
   "source": [
    "parameters_n\n",
    "#params[19]"
   ]
  },
  {
   "cell_type": "code",
   "execution_count": 17,
   "id": "0fb94731",
   "metadata": {},
   "outputs": [
    {
     "data": {
      "text/plain": [
       "[<matplotlib.lines.Line2D at 0x7f53f9b581c0>]"
      ]
     },
     "execution_count": 17,
     "metadata": {},
     "output_type": "execute_result"
    },
    {
     "data": {
      "image/png": "[encoded data removed]",
      "text/plain": [
       "<Figure size 432x288 with 1 Axes>"
      ]
     },
     "metadata": {
      "needs_background": "light"
     },
     "output_type": "display_data"
    }
   ],
   "source": [
    "plt.plot(bin_middles, entries)"
   ]
  },
  {
   "cell_type": "code",
   "execution_count": 19,
   "id": "14e76e95",
   "metadata": {
    "collapsed": true
   },
   "outputs": [
    {
     "data": {
      "text/plain": [
       "array([ 0.,  1.,  2.,  3.,  4.,  5.,  6.,  7.,  8.,  9., 10., 11., 12.,\n",
       "       13., 14., 15., 16., 17., 18., 19., 20., 21., 22., 23., 24., 25.,\n",
       "       26., 27., 28., 29., 30., 31., 32., 33., 34., 35., 36., 37., 38.,\n",
       "       39., 40., 41., 42., 43., 44., 45., 46., 47., 48.])"
      ]
     },
     "execution_count": 19,
     "metadata": {},
     "output_type": "execute_result"
    }
   ],
   "source": [
    "bin_middles"
   ]
  },
  {
   "cell_type": "code",
   "execution_count": 18,
   "id": "42904949",
   "metadata": {
    "collapsed": true
   },
   "outputs": [
    {
     "data": {
      "text/plain": [
       "array([0.03013754, 0.06047735, 0.06047735, 0.06148867, 0.06128641,\n",
       "       0.06634304, 0.0566343 , 0.05279126, 0.05602751, 0.05501618,\n",
       "       0.04631877, 0.04328479, 0.04348706, 0.04045307, 0.03559871,\n",
       "       0.03458738, 0.02690129, 0.02245146, 0.02386731, 0.01941748,\n",
       "       0.01436084, 0.01618123, 0.01233819, 0.009911  , 0.00849515,\n",
       "       0.00627023, 0.00566343, 0.00364078, 0.0052589 , 0.00343851,\n",
       "       0.00323625, 0.00283172, 0.00343851, 0.00242718, 0.00101133,\n",
       "       0.00141586, 0.0006068 , 0.00020227, 0.00080906, 0.00080906,\n",
       "       0.00020227, 0.        , 0.00020227, 0.        , 0.        ,\n",
       "       0.        , 0.        , 0.00020227, 0.        ])"
      ]
     },
     "execution_count": 18,
     "metadata": {},
     "output_type": "execute_result"
    }
   ],
   "source": [
    "entries"
   ]
  },
  {
   "cell_type": "markdown",
   "id": "8866ed2b",
   "metadata": {},
   "source": [
    "# misc"
   ]
  },
  {
   "cell_type": "code",
   "execution_count": null,
   "id": "97122f97",
   "metadata": {},
   "outputs": [],
   "source": [
    "# syntax for instantiating normal and poisson\n",
    "# add another parameter for size\n",
    "np.random.normal(mean, std)\n",
    "np.random.poisson(rate)\n",
    "np.random.exponential(rate)"
   ]
  }
 ],
 "metadata": {
  "kernelspec": {
   "display_name": "Python 3 (ipykernel)",
   "language": "python",
   "name": "python3"
  },
  "language_info": {
   "codemirror_mode": {
    "name": "ipython",
    "version": 3
   },
   "file_extension": ".py",
   "mimetype": "text/x-python",
   "name": "python",
   "nbconvert_exporter": "python",
   "pygments_lexer": "ipython3",
   "version": "3.9.7"
  }
 },
 "nbformat": 4,
 "nbformat_minor": 5
}
