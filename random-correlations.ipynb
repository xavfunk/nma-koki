{
 "cells": [
  {
   "cell_type": "markdown",
   "id": "1e0b9aa3",
   "metadata": {},
   "source": [
    "## Simulating random signals\n",
    "\n",
    "using Poisson, Gaussian and Uniform"
   ]
  },
  {
   "cell_type": "code",
   "execution_count": 1,
   "id": "d6e5da35",
   "metadata": {},
   "outputs": [],
   "source": [
    "import numpy as np\n",
    "import matplotlib.pyplot as plt\n",
    "from umap import UMAP\n",
    "from scipy.ndimage import uniform_filter1d\n",
    "from scipy.stats import zscore\n",
    "from sklearn.decomposition import PCA"
   ]
  },
  {
   "cell_type": "code",
   "execution_count": 2,
   "id": "df612b91",
   "metadata": {},
   "outputs": [],
   "source": [
    "# @title Data retrieval\n",
    "# this retrieves the dataset if not already in the folder\n",
    "\n",
    "import os, requests\n",
    "\n",
    "fname = \"stringer_spontaneous.npy\"\n",
    "url = \"https://osf.io/dpqaj/download\"\n",
    "\n",
    "if not os.path.isfile(fname):\n",
    "  try:\n",
    "    r = requests.get(url)\n",
    "  except requests.ConnectionError:\n",
    "    print(\"!!! Failed to download data !!!\")\n",
    "  else:\n",
    "    if r.status_code != requests.codes.ok:\n",
    "      print(\"!!! Failed to download data !!!\")\n",
    "    else:\n",
    "      with open(fname, \"wb\") as fid:\n",
    "        fid.write(r.content)"
   ]
  },
  {
   "cell_type": "code",
   "execution_count": 3,
   "id": "9874f999",
   "metadata": {},
   "outputs": [
    {
     "name": "stdout",
     "output_type": "stream",
     "text": [
      "dict_keys(['sresp', 'run', 'beh_svd_time', 'beh_svd_mask', 'stat', 'pupilArea', 'pupilCOM', 'xyz'])\n"
     ]
    }
   ],
   "source": [
    "dat = np.load('stringer_spontaneous.npy', allow_pickle=True).item()\n",
    "print(dat.keys())"
   ]
  },
  {
   "cell_type": "markdown",
   "id": "2d021db4",
   "metadata": {},
   "source": [
    "# Todos\n",
    "## get plausible lambda for Poisson\n",
    "\n",
    "- exclude 0s, then fit poissons to bin rate\n",
    "- $\\lambda = mean$\n",
    "\n",
    "## get plausible lambda for Exponential\n",
    "\n",
    "- exclude 0s, then fit exponentials to bin rate\n",
    "- $\\lambda = \\frac{1}{mean}$\n",
    "\n",
    "## get plausible Normal parameters\n",
    "\n",
    "- doing the same with mean and std\n",
    "\n",
    "## get plausible number of 0s"
   ]
  },
  {
   "cell_type": "code",
   "execution_count": 11,
   "id": "5f6b6db7",
   "metadata": {},
   "outputs": [
    {
     "data": {
      "image/png": "[encoded data removed]",
      "text/plain": [
       "<Figure size 432x288 with 1 Axes>"
      ]
     },
     "metadata": {
      "needs_background": "light"
     },
     "output_type": "display_data"
    }
   ],
   "source": [
    "plt.hist(dat['sresp'][0][dat['sresp'][0] > 0], bins = 100, alpha = .5) # histogram without zeros\n",
    "plt.show()"
   ]
  },
  {
   "cell_type": "code",
   "execution_count": 6,
   "id": "1df22b60",
   "metadata": {},
   "outputs": [
    {
     "data": {
      "image/png": "[encoded data removed]",
      "text/plain": [
       "<Figure size 432x288 with 1 Axes>"
      ]
     },
     "metadata": {
      "needs_background": "light"
     },
     "output_type": "display_data"
    }
   ],
   "source": [
    "# dat_clean contains data from one neuron without 0s\n",
    "dat_clean = dat['sresp'][0][dat['sresp'][0] > 0]\n",
    "#bins = np.arange(50) - 0.5\n",
    "\n",
    "plt.hist(dat_clean, bins=100, density=True, label='Data')\n",
    "plt.show()"
   ]
  },
  {
   "cell_type": "code",
   "execution_count": 8,
   "id": "457282c5",
   "metadata": {},
   "outputs": [],
   "source": [
    "mean = dat_clean.mean()"
   ]
  },
  {
   "cell_type": "code",
   "execution_count": 9,
   "id": "2a3ccd2f",
   "metadata": {},
   "outputs": [],
   "source": [
    "# simualte one synthetic neuron\n",
    "rate = 10\n",
    "neuron = np.random.exponential(1/mean, 7018)\n",
    "#neuron = np.random.poisson(mean, 7018)"
   ]
  },
  {
   "cell_type": "code",
   "execution_count": 11,
   "id": "e7f5be30",
   "metadata": {},
   "outputs": [
    {
     "data": {
      "image/png": "[encoded data removed]",
      "text/plain": [
       "<Figure size 432x288 with 1 Axes>"
      ]
     },
     "metadata": {
      "needs_background": "light"
     },
     "output_type": "display_data"
    }
   ],
   "source": [
    "plt.hist(neuron, bins = 100, alpha = .5)\n",
    "#plt.hist(dat_clean, bins = 100, alpha = .5)\n",
    "\n",
    "plt.axvline(mean)\n",
    "plt.show()"
   ]
  },
  {
   "cell_type": "markdown",
   "id": "381f1430",
   "metadata": {},
   "source": [
    "# misc"
   ]
  },
  {
   "cell_type": "code",
   "execution_count": null,
   "id": "97122f97",
   "metadata": {},
   "outputs": [],
   "source": [
    "# syntax for instantiating normal and poisson\n",
    "# add another parameter for size\n",
    "np.random.normal(mean, std)\n",
    "np.random.poisson(rate)\n",
    "np.random.exponential(rate)"
   ]
  },
  {
   "cell_type": "code",
   "execution_count": null,
   "id": "8aa742b3",
   "metadata": {},
   "outputs": [],
   "source": [
    "## potential poisson-fitting code\n",
    "from scipy.optimize import curve_fit\n",
    "from scipy.special import factorial\n",
    "from scipy.stats import poisson\n",
    "\n",
    "# the bins should be of integer width, because poisson is an integer distribution\n",
    "bins = np.arange(50) - 0.5\n",
    "entries, bin_edges, patches = plt.hist(dat_clean, bins=bins, density=True, label='Data')\n",
    "\n",
    "# calculate bin centres\n",
    "bin_middles = 0.5 * (bin_edges[1:] + bin_edges[:-1])\n",
    "\n",
    "\n",
    "def fit_function(k, lamb):\n",
    "    '''poisson function, parameter lamb is the fit parameter'''\n",
    "    return poisson.pmf(k, lamb)\n",
    "\n",
    "\n",
    "# fit with curve_fit\n",
    "parameters, cov_matrix = curve_fit(fit_function, bin_middles, entries)\n",
    "\n",
    "# plot poisson-deviation with fitted parameter\n",
    "x_plot = np.arange(0, 15)\n",
    "\n",
    "plt.plot(\n",
    "    x_plot,\n",
    "    fit_function(x_plot, *parameters),\n",
    "    marker='o', linestyle='',\n",
    "    label='Fit result',\n",
    ")"
   ]
  }
 ],
 "metadata": {
  "kernelspec": {
   "display_name": "Python 3 (ipykernel)",
   "language": "python",
   "name": "python3"
  },
  "language_info": {
   "codemirror_mode": {
    "name": "ipython",
    "version": 3
   },
   "file_extension": ".py",
   "mimetype": "text/x-python",
   "name": "python",
   "nbconvert_exporter": "python",
   "pygments_lexer": "ipython3",
   "version": "3.9.7"
  }
 },
 "nbformat": 4,
 "nbformat_minor": 5
}
