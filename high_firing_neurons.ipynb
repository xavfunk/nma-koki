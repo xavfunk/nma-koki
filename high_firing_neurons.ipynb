{
 "cells": [
  {
   "cell_type": "markdown",
   "metadata": {
    "execution": {},
    "id": "kE78h4s5jdbK"
   },
   "source": [
    "## Contribution of high firing neurons to behavior or stimulus encoding\n"
   ]
  },
  {
   "cell_type": "code",
   "execution_count": null,
   "metadata": {
    "execution": {},
    "id": "d9XctD_0jdbN",
    "outputId": "8b7bf0fd-b482-4dec-a6b3-b483f5ed9982",
    "colab": {
     "base_uri": "https://localhost:8080/"
    }
   },
   "outputs": [
    {
     "output_type": "stream",
     "name": "stdout",
     "text": [
      "\u001B[K     |████████████████████████████████| 88 kB 1.1 MB/s \n",
      "\u001B[K     |████████████████████████████████| 1.1 MB 13.9 MB/s \n",
      "\u001B[?25h  Building wheel for umap-learn (setup.py) ... \u001B[?25l\u001B[?25hdone\n",
      "  Building wheel for pynndescent (setup.py) ... \u001B[?25l\u001B[?25hdone\n"
     ]
    }
   ],
   "source": [
    "# @title Install dependencies\n",
    "!pip install umap-learn --quiet"
   ]
  },
  {
   "cell_type": "code",
   "execution_count": 43,
   "metadata": {
    "execution": {},
    "id": "tDfeZgohjdbP"
   },
   "outputs": [],
   "source": [
    "import numpy as np\n",
    "import matplotlib.pyplot as plt\n",
    "from scipy import stats\n",
    "from umap import UMAP\n",
    "from scipy.ndimage import uniform_filter1d\n",
    "from scipy.stats import zscore\n",
    "from sklearn.decomposition import PCA"
   ]
  },
  {
   "cell_type": "code",
   "execution_count": 2,
   "metadata": {
    "cellView": "form",
    "execution": {},
    "id": "_KJoFtTujdbP"
   },
   "outputs": [],
   "source": [
    "# @title Figure settings\n",
    "from matplotlib import rcParams\n",
    "\n",
    "rcParams['figure.figsize'] = [20, 4]\n",
    "rcParams['font.size'] =15\n",
    "rcParams['axes.spines.top'] = False\n",
    "rcParams['axes.spines.right'] = False\n",
    "rcParams['figure.autolayout'] = True"
   ]
  },
  {
   "cell_type": "code",
   "execution_count": 4,
   "metadata": {
    "cellView": "form",
    "execution": {},
    "id": "_WPSoImCjdbP"
   },
   "outputs": [],
   "source": [
    "# @title Data retrieval\n",
    "import os, requests\n",
    "\n",
    "fname = \"stringer_spontaneous.npy\"\n",
    "url = \"https://osf.io/dpqaj/download\"\n",
    "\n",
    "if not os.path.isfile(fname):\n",
    "  try:\n",
    "    r = requests.get(url)\n",
    "  except requests.ConnectionError:\n",
    "    print(\"!!! Failed to download data !!!\")\n",
    "  else:\n",
    "    if r.status_code != requests.codes.ok:\n",
    "      print(\"!!! Failed to download data !!!\")\n",
    "    else:\n",
    "      with open(fname, \"wb\") as fid:\n",
    "        fid.write(r.content)"
   ]
  },
  {
   "cell_type": "code",
   "execution_count": 3,
   "metadata": {
    "cellView": "form",
    "execution": {},
    "id": "kzh8Giw5jdbQ",
    "outputId": "b1a43f79-f290-4727-8ed6-3fe85f2f6356",
    "colab": {
     "base_uri": "https://localhost:8080/"
    }
   },
   "outputs": [
    {
     "name": "stdout",
     "output_type": "stream",
     "text": [
      "dict_keys(['sresp', 'run', 'beh_svd_time', 'beh_svd_mask', 'stat', 'pupilArea', 'pupilCOM', 'xyz'])\n"
     ]
    }
   ],
   "source": [
    "# @title Data loading\n",
    "\n",
    "dat = np.load('stringer_spontaneous.npy', allow_pickle=True).item()\n",
    "print(dat.keys())"
   ]
  },
  {
   "cell_type": "markdown",
   "metadata": {
    "execution": {},
    "id": "k9TmRbJJjdbR"
   },
   "source": [
    "\n",
    "dat has fields:\n",
    "* `dat['sresp']`: neurons by timebins, a.k.a. the neural response data (11983 by 7018). Timebin = 1.2 sec.\n",
    "* `dat['run']`: timebins by 1, a.k.a. the running speed of the animal in a.u.\n",
    "* `dat['xyz']`: three-dimensional position of each neuron in the brain. \n",
    "* `dat['pupilArea']`: timebins by 1, see FaceMap for details on the pupil tracker\n",
    "* `dat['pupilCOM']`: timebins by 2, correspond to X and Y position. See FaceMap for details on the pupil tracker.\n",
    "* `dat['beh_svd_time']`: timebins by 1,000. Timecourses of behavioral SVDs extracted from face movies. See FaceMap for details. \n",
    "* `dat['beh_svd_mask']`: 240 by 320 by 1,000. Spatial masks of behavioral SVDs. Roughly normalized to each other. \n",
    "* `dat['beh_svd_mask'] @ dat['beh_svd_time'][T, :]`:  reconstruction of the face movie (its motion energy) for frame T\n",
    "* `dat['stat']`: 1 by neurons, some statistics for each neuron, see Suite2p for full documentation."
   ]
  },
  {
   "cell_type": "code",
   "execution_count": 18,
   "metadata": {
    "execution": {},
    "id": "jEigbk4SjdbS",
    "outputId": "d36af08b-f1d7-4376-9ecb-61e3dc283127",
    "colab": {
     "base_uri": "https://localhost:8080/"
    }
   },
   "outputs": [],
   "source": [
    "neuron_data = dat['sresp']\n",
    "running_data = dat['run']"
   ]
  },
  {
   "cell_type": "code",
   "execution_count": 151,
   "outputs": [],
   "source": [
    "\n",
    "# get avg firing rates of neurons, sort\n",
    "avg_firing_neurons = np.mean(neuron_data, axis=1)\n",
    "#plt.hist(avg_firing_neurons, bins='auto')\n",
    "std_all_neurons = np.std(avg_firing_neurons)\n",
    "mean_all_neurons = np.mean(avg_firing_neurons)\n",
    "sorted_by_avg_firing = np.flip(np.argsort(avg_firing_neurons))"
   ],
   "metadata": {
    "collapsed": false,
    "pycharm": {
     "name": "#%%\n"
    }
   }
  },
  {
   "cell_type": "code",
   "execution_count": 156,
   "outputs": [],
   "source": [
    "# Split the population\n",
    "high_criterion = mean_all_neurons + 2 * std_all_neurons\n",
    "low_criterion = mean_all_neurons - 2 * std_all_neurons\n",
    "\n",
    "# Based on criterion\n",
    "#high_firing_neurons = neuron_data[avg_firing_neurons > high_criterion]\n",
    "#low_firing_neurons = neuron_data[avg_firing_neurons < low_criterion]\n",
    "#all_other_neurons = neuron_data[avg_firing_neurons <= high_criterion]\n",
    "\n",
    "folds = 5\n",
    "fold = int(avg_firing_neurons.shape[0]/folds)\n",
    "high_firing_neurons = neuron_data[sorted_by_avg_firing][:fold]\n",
    "low_firing_neurons = neuron_data[sorted_by_avg_firing][-fold:]\n",
    "# select n random neurons from all, where n is number of high firing neurons\n",
    "#index = np.random.randint(0, all_other_neurons.shape[0], size=high_firing_neurons.shape[0])\n",
    "#all_other_neurons = all_other_neurons[index]"
   ],
   "metadata": {
    "collapsed": false,
    "pycharm": {
     "name": "#%%\n"
    }
   }
  },
  {
   "cell_type": "code",
   "execution_count": 153,
   "outputs": [
    {
     "name": "stdout",
     "output_type": "stream",
     "text": [
      "(599, 7018)\n"
     ]
    },
    {
     "data": {
      "text/plain": "<Figure size 432x288 with 1 Axes>",
      "image/png": "[encoded data removed]"
     },
     "metadata": {
      "needs_background": "light"
     },
     "output_type": "display_data"
    }
   ],
   "source": [
    "print(low_firing_neurons.shape)\n",
    "mean_of_low_firing_neurons = np.mean(low_firing_neurons, axis=1)\n",
    "plt.hist(avg_firing_neurons, bins='auto')\n",
    "plt.show()"
   ],
   "metadata": {
    "collapsed": false,
    "pycharm": {
     "name": "#%%\n"
    }
   }
  },
  {
   "cell_type": "markdown",
   "source": [],
   "metadata": {
    "collapsed": false,
    "pycharm": {
     "name": "#%% md\n"
    }
   }
  },
  {
   "cell_type": "code",
   "execution_count": 45,
   "outputs": [],
   "source": [
    "# getting correlation between neurons and running\n",
    "def get_correlations(neurons, behavior):\n",
    "  pearsons_neurons = np.empty((neurons.shape[0], 2)) # r, p-value\n",
    "  for idx, neuron in enumerate(neurons):\n",
    "    pearsons_neurons[idx][0], pearsons_neurons[idx][1] = stats.pearsonr(neuron, behavior)\n",
    "  return pearsons_neurons"
   ],
   "metadata": {
    "collapsed": false,
    "pycharm": {
     "name": "#%%\n"
    }
   }
  },
  {
   "cell_type": "code",
   "execution_count": 137,
   "outputs": [],
   "source": [
    "pearsons_high_firing_neurons = get_correlations(high_firing_neurons, running_data)\n",
    "pearsons_low_firing_neurons = get_correlations(low_firing_neurons, running_data)\n",
    "#pearsons_all_neurons = get_correlations(neuron_data, running_data)\n",
    "#pearsons_all_other_neurons = get_correlations(all_other_neurons, running_data)"
   ],
   "metadata": {
    "collapsed": false,
    "pycharm": {
     "name": "#%%\n"
    }
   }
  },
  {
   "cell_type": "code",
   "execution_count": 138,
   "outputs": [
    {
     "data": {
      "text/plain": "<Figure size 432x288 with 1 Axes>",
      "image/png": "[encoded data removed]"
     },
     "metadata": {
      "needs_background": "light"
     },
     "output_type": "display_data"
    }
   ],
   "source": [
    "\n",
    "plt.figure()\n",
    "bins = 40\n",
    "plt.hist(pearsons_high_firing_neurons[:,0], bins=bins, label='high', alpha=0.5)\n",
    "plt.hist(pearsons_low_firing_neurons[:,0], bins=bins, label='low', alpha=0.5)\n",
    "#plt.hist(pearsons_all_neurons[:,0], bins=bins, label='all', alpha=0.5)\n",
    "#plt.hist(pearsons_all_other_neurons[:,0], bins=bins, label='all other', alpha=0.5)\n",
    "plt.title('Running')\n",
    "plt.xlabel('pearson r')\n",
    "plt.legend()\n",
    "plt.show()\n",
    "\n",
    "# Bayesian model test?\n",
    "# Test: different sample sizes, not independent, non-normal distributed"
   ],
   "metadata": {
    "collapsed": false,
    "pycharm": {
     "name": "#%%\n"
    }
   }
  },
  {
   "cell_type": "code",
   "execution_count": 85,
   "outputs": [
    {
     "name": "stdout",
     "output_type": "stream",
     "text": [
      "1.377741803934826e-29\n"
     ]
    }
   ],
   "source": [
    "# Wilcoxon rank sum\n",
    "#H_vs_other, p_H_vs_other = stats.wilcoxon(pearsons_high_firing_neurons[:,0], pearsons_all_other_neurons[:,0])\n",
    "#H_vs_all, p_H_vs_all = stats.wilcoxon(pearsons_high_firing_neurons[:,0], pearsons_all_neurons[:,0])\n",
    "H_vs_L, p_H_vs_L = stats.wilcoxon(pearsons_high_firing_neurons[:,0], pearsons_low_firing_neurons[:,0])\n",
    "\n",
    "\n",
    "print(p_H_vs_L)\n",
    "#print(H_vs_all)\n"
   ],
   "metadata": {
    "collapsed": false,
    "pycharm": {
     "name": "#%%\n"
    }
   }
  },
  {
   "cell_type": "code",
   "execution_count": 169,
   "outputs": [
    {
     "name": "stdout",
     "output_type": "stream",
     "text": [
      "shapes:\n",
      "original data (2396, 7018)\n",
      "z-scored (2396, 7018)\n",
      "scikit pca (7018, 1074)\n"
     ]
    }
   ],
   "source": [
    "# @title zscore then PCA\n",
    "\n",
    "z_scored = zscore(high_firing_neurons, axis=1)\n",
    "z_scored = np.nan_to_num(z_scored)\n",
    "components = PCA(n_components=0.8, svd_solver='full').fit_transform(z_scored.T)\n",
    "print('shapes:')\n",
    "print(f'original data {high_firing_neurons.shape}')\n",
    "print(f'z-scored {z_scored.shape}')\n",
    "print(f'scikit pca {components.shape}')\n",
    "#print(f'self-imlemented pca {components_self.shape}')"
   ],
   "metadata": {
    "collapsed": false,
    "pycharm": {
     "name": "#%%\n"
    }
   }
  },
  {
   "cell_type": "code",
   "execution_count": 176,
   "outputs": [
    {
     "data": {
      "text/plain": "<Figure size 432x288 with 1 Axes>",
      "image/png": "[encoded data removed]"
     },
     "metadata": {
      "needs_background": "light"
     },
     "output_type": "display_data"
    }
   ],
   "source": [
    "plt.plot(components[:,0], label='component')\n",
    "plt.plot(running_data, label='running')\n",
    "plt.legend()\n",
    "plt.show()"
   ],
   "metadata": {
    "collapsed": false,
    "pycharm": {
     "name": "#%%\n"
    }
   }
  },
  {
   "cell_type": "code",
   "execution_count": 131,
   "outputs": [
    {
     "data": {
      "text/plain": "<Figure size 432x288 with 1 Axes>",
      "image/png": "[encoded data removed]"
     },
     "metadata": {
      "needs_background": "light"
     },
     "output_type": "display_data"
    }
   ],
   "source": [
    "# pearson's after pca, first 100 components\n",
    "plt.plot(running_data, label='running')\n",
    "plt.plot(components[1,:], label='1st')\n",
    "plt.plot(components[2,:], label='2nd')\n",
    "plt.plot(components[3,:], label='3rd')\n",
    "plt.plot(components[4,:], label='4th')\n",
    "plt.plot(components[2395,:], label='100th')\n",
    "\n",
    "plt.legend()\n",
    "plt.show()"
   ],
   "metadata": {
    "collapsed": false,
    "pycharm": {
     "name": "#%%\n"
    }
   }
  },
  {
   "cell_type": "code",
   "execution_count": null,
   "outputs": [],
   "source": [],
   "metadata": {
    "collapsed": false,
    "pycharm": {
     "name": "#%%\n"
    }
   }
  }
 ],
 "metadata": {
  "colab": {
   "collapsed_sections": [],
   "name": "Kopie van load_stringer_spontaneous",
   "provenance": [],
   "toc_visible": true
  },
  "kernel": {
   "display_name": "Python 3",
   "language": "python",
   "name": "python3"
  },
  "kernelspec": {
   "display_name": "Python 3",
   "name": "python3"
  }
 },
 "nbformat": 4,
 "nbformat_minor": 0
}